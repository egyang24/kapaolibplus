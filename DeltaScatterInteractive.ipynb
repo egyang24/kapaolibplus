{
 "metadata": {
  "name": "",
  "signature": "sha256:786134ae9f8024c9313e967f5c64ab8a7b666492bbaf8f29e3a4d0e9ff63c73b"
 },
 "nbformat": 3,
 "nbformat_minor": 0,
 "worksheets": [
  {
   "cells": [
    {
     "cell_type": "code",
     "collapsed": false,
     "input": [
      "%pylab inline\n",
      "from IPython.html.widgets import *\n",
      "from kapaolibplus import Slopes\n",
      "import numpy as np\n",
      "from matplotlib import pyplot as plt"
     ],
     "language": "python",
     "metadata": {},
     "outputs": [
      {
       "output_type": "stream",
       "stream": "stdout",
       "text": [
        "Populating the interactive namespace from numpy and matplotlib\n"
       ]
      }
     ],
     "prompt_number": 1
    },
    {
     "cell_type": "code",
     "collapsed": false,
     "input": [
      "subdirectory = 'TelemetryOpenLoop'\n",
      "filenum = '20140621_000310'\n",
      "\n",
      "SLOPE_X_FILE = './' + subdirectory + '/' + 'slope_x_' + filenum + '.tel'\n",
      "SLOPE_Y_FILE = './' + subdirectory + '/' + 'slope_y_' + filenum + '.tel'\n",
      "    \n",
      "slope_x, slope_y = Slopes(SLOPE_X_FILE), Slopes(SLOPE_Y_FILE)\n",
      "\n",
      "length = min(len(slope_x.data),len(slope_y.data))"
     ],
     "language": "python",
     "metadata": {},
     "outputs": [],
     "prompt_number": 5
    },
    {
     "cell_type": "code",
     "collapsed": false,
     "input": [
      "def deltascatter(timestep):\n",
      "\n",
      "    \n",
      "    xslope = slope_x.data[timestep]\n",
      "    yslope = slope_y.data[timestep]\n",
      "    \n",
      "    \n",
      "    xmax = max(np.absolute(xslope))\n",
      "    ymax = max(np.absolute(yslope))\n",
      "    maxval = max(xmax, ymax)\n",
      "    \n",
      "    separation = 1.0\n",
      "    \n",
      "    dx = np.zeros(97)\n",
      "    dy = np.zeros(97)\n",
      "    for i in range(97):\n",
      "        dx[i] = xslope[i]/maxval*0.9*separation\n",
      "        dy[i]= yslope[i]/maxval*0.9*separation\n",
      "    \n",
      "    \n",
      "    \n",
      "    xadd = np.zeros(97)\n",
      "    for i in range(97):\n",
      "        if 0<= i < 5:\n",
      "            xadd[i] = 0*separation*2\n",
      "        if 5<= i < 12:\n",
      "            xadd[i] = 1*separation*2\n",
      "        if 12<= i < 21:\n",
      "            xadd[i] = 2*separation*2\n",
      "        if 21<= i < 32:\n",
      "            xadd[i] = 3*separation*2 \n",
      "        if 32<= i < 43:\n",
      "            xadd[i] = 4*separation*2\n",
      "        if 43<= i < 54:\n",
      "            xadd[i] = 5*separation*2       \n",
      "        if 54<= i < 65:\n",
      "            xadd[i] = 6*separation*2\n",
      "        if 65<= i < 76:\n",
      "            xadd[i] = 7*separation*2\n",
      "        if 76<= i < 85:\n",
      "            xadd[i] = 8*separation*2\n",
      "        if 85<= i < 92:\n",
      "            xadd[i] = 9*separation*2\n",
      "        if 92<= i < 97:\n",
      "            xadd[i] = 10*separation*2\n",
      "    \n",
      "    \n",
      "            \n",
      "    \n",
      "    # Y slope\n",
      "    \n",
      "    \n",
      "    yadd = np.zeros(97)\n",
      "    for i in range(97):\n",
      "        if 0<= i < 5:\n",
      "            yadd[i] = (3 + i)*separation*2\n",
      "        if 5<= i < 12:\n",
      "            yadd[i] = (-3 + i)*separation*2\n",
      "        if 12<= i < 21:\n",
      "            yadd[i] = (-11 + i)*separation*2\n",
      "        if 21<= i < 32:\n",
      "            yadd[i] = (-21 + i)*separation*2       \n",
      "        if 32<= i < 43:\n",
      "            yadd[i] = (-32 + i)*separation*2\n",
      "        if 43<= i < 54:\n",
      "            yadd[i] = (-43 + i)*separation*2      \n",
      "        if 54<= i < 65:\n",
      "            yadd[i] = (-54 + i)*separation*2\n",
      "        if 65<= i < 76:\n",
      "            yadd[i] = (-65 + i)*separation*2\n",
      "        if 76<= i < 85:\n",
      "            yadd[i] = (-75 + i)*separation*2\n",
      "        if 85<= i < 92:\n",
      "            yadd[i] = (-83 + i)*separation*2\n",
      "        if 92<= i < 97:\n",
      "            yadd[i] = (-89 + i)*separation*2\n",
      "    \n",
      "    \n",
      "    \n",
      "    xplot = np.zeros(97)\n",
      "    yplot = np.zeros(97)\n",
      "    xplot = [dx[i] + xadd[i] for i in range(97)]\n",
      "    yplot = [dy[i] + yadd[i] for i in range(97)]\n",
      "    \n",
      "    \n",
      "    plt.figure(figsize=(7,7))\n",
      "    plt.plot(xadd,yadd,'.',xplot,yplot,'x')\n",
      "    plt.xlim(-2,22)\n",
      "    plt.ylim(-2,22)"
     ],
     "language": "python",
     "metadata": {},
     "outputs": [],
     "prompt_number": 9
    },
    {
     "cell_type": "code",
     "collapsed": false,
     "input": [
      "interact(deltascatter, timestep=(0,length-1,1));"
     ],
     "language": "python",
     "metadata": {},
     "outputs": [
      {
       "metadata": {},
       "output_type": "display_data",
       "png": "[encoded data removed]",
       "text": [
        "<matplotlib.figure.Figure at 0x105b14590>"
       ]
      }
     ],
     "prompt_number": 10
    },
    {
     "cell_type": "code",
     "collapsed": false,
     "input": [],
     "language": "python",
     "metadata": {},
     "outputs": []
    }
   ],
   "metadata": {}
  }
 ]
}
